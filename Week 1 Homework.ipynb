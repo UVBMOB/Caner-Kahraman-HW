{
 "cells": [
  {
   "cell_type": "code",
   "execution_count": 5,
   "metadata": {},
   "outputs": [
    {
     "name": "stdout",
     "output_type": "stream",
     "text": [
      "This is a class of basketball players\n"
     ]
    }
   ],
   "source": [
    "class Basketballplayer():\n",
    "    print(\"This is a class of basketball players\")\n",
    "    skills = []\n",
    "    def __init__(self):\n",
    "        self.skills = []\n",
    "    def addskills(self,newskill) :\n",
    "        self.skills.append(newskill)\n",
    "    pts_avg = 0\n",
    "    reb_avg = 0 \n",
    "    ast_avg = 0\n",
    "    rating = min(pts_avg*2+reb_avg*3+ast_avg*3,99)\n",
    "  \n",
    "    \n",
    "    "
   ]
  },
  {
   "cell_type": "code",
   "execution_count": 6,
   "metadata": {},
   "outputs": [
    {
     "data": {
      "text/plain": [
       "[]"
      ]
     },
     "execution_count": 6,
     "metadata": {},
     "output_type": "execute_result"
    }
   ],
   "source": [
    "Basketballplayer.skills"
   ]
  },
  {
   "cell_type": "code",
   "execution_count": 7,
   "metadata": {},
   "outputs": [],
   "source": [
    "LebronJames = Basketballplayer()"
   ]
  },
  {
   "cell_type": "code",
   "execution_count": 8,
   "metadata": {},
   "outputs": [],
   "source": [
    "LebronJames.skills.append(\"Passing\")"
   ]
  },
  {
   "cell_type": "code",
   "execution_count": 9,
   "metadata": {},
   "outputs": [],
   "source": [
    "LebronJames.pts_avg = 27"
   ]
  },
  {
   "cell_type": "code",
   "execution_count": 10,
   "metadata": {},
   "outputs": [],
   "source": [
    "LebronJames.reb_avg = 7"
   ]
  },
  {
   "cell_type": "code",
   "execution_count": 11,
   "metadata": {},
   "outputs": [],
   "source": [
    "LebronJames.ast_avg = 7"
   ]
  },
  {
   "cell_type": "code",
   "execution_count": 12,
   "metadata": {},
   "outputs": [
    {
     "data": {
      "text/plain": [
       "['Passing']"
      ]
     },
     "execution_count": 12,
     "metadata": {},
     "output_type": "execute_result"
    }
   ],
   "source": [
    "LebronJames.skills"
   ]
  },
  {
   "cell_type": "code",
   "execution_count": 13,
   "metadata": {},
   "outputs": [],
   "source": [
    "LebronJames.rating = 95"
   ]
  },
  {
   "cell_type": "code",
   "execution_count": 14,
   "metadata": {},
   "outputs": [],
   "source": [
    "StephenCurry = Basketballplayer()"
   ]
  },
  {
   "cell_type": "code",
   "execution_count": 15,
   "metadata": {},
   "outputs": [],
   "source": [
    "StephenCurry.pts_avg = 29"
   ]
  },
  {
   "cell_type": "code",
   "execution_count": 16,
   "metadata": {},
   "outputs": [],
   "source": [
    "StephenCurry.reb_avg = 4"
   ]
  },
  {
   "cell_type": "code",
   "execution_count": 17,
   "metadata": {},
   "outputs": [],
   "source": [
    "StephenCurry.ast_avg = 8"
   ]
  },
  {
   "cell_type": "code",
   "execution_count": 18,
   "metadata": {},
   "outputs": [],
   "source": [
    "StephenCurry.rating = 94"
   ]
  },
  {
   "cell_type": "code",
   "execution_count": 19,
   "metadata": {},
   "outputs": [],
   "source": [
    "rating_list = [LebronJames.rating, StephenCurry.rating]"
   ]
  },
  {
   "cell_type": "code",
   "execution_count": 20,
   "metadata": {},
   "outputs": [
    {
     "data": {
      "text/plain": [
       "[95, 94]"
      ]
     },
     "execution_count": 20,
     "metadata": {},
     "output_type": "execute_result"
    }
   ],
   "source": [
    "rating_list"
   ]
  },
  {
   "cell_type": "code",
   "execution_count": 21,
   "metadata": {},
   "outputs": [],
   "source": [
    "import numpy as np"
   ]
  },
  {
   "cell_type": "code",
   "execution_count": 22,
   "metadata": {},
   "outputs": [],
   "source": [
    "player_rank_list = np.random.normal(loc=80,scale=10,size=200)"
   ]
  },
  {
   "cell_type": "code",
   "execution_count": 23,
   "metadata": {},
   "outputs": [],
   "source": [
    "player_rank_list = list(player_rank_list)"
   ]
  },
  {
   "cell_type": "code",
   "execution_count": 24,
   "metadata": {},
   "outputs": [],
   "source": [
    "player_rank_list = [round(x,0) for x in player_rank_list]"
   ]
  },
  {
   "cell_type": "code",
   "execution_count": 25,
   "metadata": {},
   "outputs": [],
   "source": [
    "player_rank_list = [min(x,99) for x in player_rank_list]"
   ]
  },
  {
   "cell_type": "code",
   "execution_count": 26,
   "metadata": {},
   "outputs": [],
   "source": [
    "from scipy.stats import norm \n",
    "import seaborn as sns"
   ]
  },
  {
   "cell_type": "code",
   "execution_count": 27,
   "metadata": {},
   "outputs": [
    {
     "data": {
      "image/png": "[encoded data removed]",
      "text/plain": [
       "<Figure size 432x288 with 1 Axes>"
      ]
     },
     "metadata": {
      "needs_background": "light"
     },
     "output_type": "display_data"
    }
   ],
   "source": [
    "plot = sns.distplot(player_rank_list)"
   ]
  },
  {
   "cell_type": "code",
   "execution_count": 29,
   "metadata": {},
   "outputs": [],
   "source": [
    "from statistics import mean"
   ]
  },
  {
   "cell_type": "code",
   "execution_count": 36,
   "metadata": {},
   "outputs": [],
   "source": [
    "import statistics"
   ]
  },
  {
   "cell_type": "code",
   "execution_count": 31,
   "metadata": {},
   "outputs": [
    {
     "data": {
      "text/plain": [
       "79.19"
      ]
     },
     "execution_count": 31,
     "metadata": {},
     "output_type": "execute_result"
    }
   ],
   "source": [
    "mean(player_rank_list)"
   ]
  },
  {
   "cell_type": "code",
   "execution_count": 37,
   "metadata": {},
   "outputs": [
    {
     "data": {
      "text/plain": [
       "9.548811391737448"
      ]
     },
     "execution_count": 37,
     "metadata": {},
     "output_type": "execute_result"
    }
   ],
   "source": [
    "statistics.stdev(player_rank_list)"
   ]
  },
  {
   "cell_type": "code",
   "execution_count": 39,
   "metadata": {},
   "outputs": [],
   "source": [
    "from scipy import stats"
   ]
  },
  {
   "cell_type": "code",
   "execution_count": 52,
   "metadata": {},
   "outputs": [],
   "source": [
    "aaa = np.asarray(player_rank_list,dtype=np.float32)"
   ]
  },
  {
   "cell_type": "code",
   "execution_count": 57,
   "metadata": {},
   "outputs": [],
   "source": [
    "aaa = np.float32(aaa)"
   ]
  },
  {
   "cell_type": "code",
   "execution_count": 77,
   "metadata": {},
   "outputs": [
    {
     "name": "stderr",
     "output_type": "stream",
     "text": [
      "C:\\Users\\cakahraman\\AppData\\Local\\Continuum\\anaconda3\\lib\\site-packages\\ipykernel_launcher.py:1: VisibleDeprecationWarning: Passing `normed=True` on non-uniform bins has always been broken, and computes neither the probability density function nor the probability mass function. The result is only correct if the bins are uniform, when density=True will produce the same result anyway. The argument will be removed in a future version of numpy.\n",
      "  \"\"\"Entry point for launching an IPython kernel.\n"
     ]
    }
   ],
   "source": [
    "H,X1 = np.histogram( aaa, bins = 100, normed = True )\n",
    "dx = X1[1] - X1[0]\n",
    "F1 = np.cumsum(H)*dx"
   ]
  },
  {
   "cell_type": "code",
   "execution_count": 78,
   "metadata": {},
   "outputs": [
    {
     "data": {
      "text/plain": [
       "array([0.00499997, 0.00499997, 0.00499997, 0.00499997, 0.00999995,\n",
       "       0.00999995, 0.00999995, 0.00999995, 0.00999995, 0.01499992,\n",
       "       0.01499992, 0.02499987, 0.02499987, 0.03499982, 0.03499982,\n",
       "       0.04999974, 0.04999974, 0.04999974, 0.05999969, 0.05999969,\n",
       "       0.07499962, 0.07499962, 0.08999954, 0.08999954, 0.08999954,\n",
       "       0.09999949, 0.09999949, 0.12999934, 0.12999934, 0.14999923,\n",
       "       0.14999923, 0.16499916, 0.16499916, 0.16499916, 0.18499905,\n",
       "       0.18499905, 0.22499885, 0.22499885, 0.24999872, 0.24999872,\n",
       "       0.26999862, 0.26999862, 0.26999862, 0.31499839, 0.31499839,\n",
       "       0.34499824, 0.34499824, 0.37499808, 0.37499808, 0.37499808,\n",
       "       0.41499788, 0.41499788, 0.4699976 , 0.4699976 , 0.51499737,\n",
       "       0.51499737, 0.54999719, 0.54999719, 0.54999719, 0.57999703,\n",
       "       0.57999703, 0.60999688, 0.60999688, 0.65999662, 0.65999662,\n",
       "       0.70499639, 0.70499639, 0.70499639, 0.71499634, 0.71499634,\n",
       "       0.76999606, 0.76999606, 0.79499593, 0.79499593, 0.79499593,\n",
       "       0.81999581, 0.81999581, 0.84999565, 0.84999565, 0.87499552,\n",
       "       0.87499552, 0.89499542, 0.89499542, 0.89499542, 0.92499527,\n",
       "       0.92499527, 0.93999519, 0.93999519, 0.95499512, 0.95499512,\n",
       "       0.95499512, 0.95499512, 0.95499512, 0.96499506, 0.96499506,\n",
       "       0.97499501, 0.97499501, 0.97999499, 0.97999499, 0.99999488])"
      ]
     },
     "execution_count": 78,
     "metadata": {},
     "output_type": "execute_result"
    }
   ],
   "source": [
    "F1 #cdf"
   ]
  },
  {
   "cell_type": "code",
   "execution_count": 81,
   "metadata": {},
   "outputs": [
    {
     "name": "stderr",
     "output_type": "stream",
     "text": [
      "C:\\Users\\cakahraman\\AppData\\Local\\Continuum\\anaconda3\\lib\\site-packages\\ipykernel_launcher.py:1: VisibleDeprecationWarning: Passing `normed=True` on non-uniform bins has always been broken, and computes neither the probability density function nor the probability mass function. The result is only correct if the bins are uniform, when density=True will produce the same result anyway. The argument will be removed in a future version of numpy.\n",
      "  \"\"\"Entry point for launching an IPython kernel.\n"
     ]
    },
    {
     "data": {
      "text/plain": [
       "(array([0.01136361, 0.        , 0.        , 0.        , 0.01136361,\n",
       "        0.        , 0.        , 0.        , 0.        , 0.01136361,\n",
       "        0.        , 0.02272723, 0.        , 0.02272723, 0.        ,\n",
       "        0.03409084, 0.        , 0.        , 0.02272723, 0.        ,\n",
       "        0.03409084, 0.        , 0.03409084, 0.        , 0.        ,\n",
       "        0.02272723, 0.        , 0.06818168, 0.        , 0.04545445,\n",
       "        0.        , 0.03409084, 0.        , 0.        , 0.04545445,\n",
       "        0.        , 0.09090891, 0.        , 0.05681807, 0.        ,\n",
       "        0.04545445, 0.        , 0.        , 0.10227252, 0.        ,\n",
       "        0.06818168, 0.        , 0.06818168, 0.        , 0.        ,\n",
       "        0.09090891, 0.        , 0.12499975, 0.        , 0.10227252,\n",
       "        0.        , 0.0795453 , 0.        , 0.        , 0.06818168,\n",
       "        0.        , 0.06818168, 0.        , 0.11363614, 0.        ,\n",
       "        0.10227252, 0.        , 0.        , 0.02272723, 0.        ,\n",
       "        0.12499975, 0.        , 0.05681807, 0.        , 0.        ,\n",
       "        0.05681807, 0.        , 0.06818168, 0.        , 0.05681807,\n",
       "        0.        , 0.04545445, 0.        , 0.        , 0.06818168,\n",
       "        0.        , 0.03409084, 0.        , 0.03409084, 0.        ,\n",
       "        0.        , 0.        , 0.        , 0.02272723, 0.        ,\n",
       "        0.02272723, 0.        , 0.01136361, 0.        , 0.04545445]),\n",
       " array([55.  , 55.44, 55.88, 56.32, 56.76, 57.2 , 57.64, 58.08, 58.52,\n",
       "        58.96, 59.4 , 59.84, 60.28, 60.72, 61.16, 61.6 , 62.04, 62.48,\n",
       "        62.92, 63.36, 63.8 , 64.24, 64.68, 65.12, 65.56, 66.  , 66.44,\n",
       "        66.88, 67.32, 67.76, 68.2 , 68.64, 69.08, 69.52, 69.96, 70.4 ,\n",
       "        70.84, 71.28, 71.72, 72.16, 72.6 , 73.04, 73.48, 73.92, 74.36,\n",
       "        74.8 , 75.24, 75.68, 76.12, 76.56, 77.  , 77.44, 77.88, 78.32,\n",
       "        78.76, 79.2 , 79.64, 80.08, 80.52, 80.96, 81.4 , 81.84, 82.28,\n",
       "        82.72, 83.16, 83.6 , 84.04, 84.48, 84.92, 85.36, 85.8 , 86.24,\n",
       "        86.68, 87.12, 87.56, 88.  , 88.44, 88.88, 89.32, 89.76, 90.2 ,\n",
       "        90.64, 91.08, 91.52, 91.96, 92.4 , 92.84, 93.28, 93.72, 94.16,\n",
       "        94.6 , 95.04, 95.48, 95.92, 96.36, 96.8 , 97.24, 97.68, 98.12,\n",
       "        98.56, 99.  ], dtype=float32))"
      ]
     },
     "execution_count": 81,
     "metadata": {},
     "output_type": "execute_result"
    }
   ],
   "source": [
    "np.histogram( aaa, bins = 100, normed = True )"
   ]
  },
  {
   "cell_type": "code",
   "execution_count": 93,
   "metadata": {},
   "outputs": [],
   "source": [
    "A = [\"Lebron\", \"Curry\", \"Harden\", \"Jokic\", \"Kawhi\"]"
   ]
  },
  {
   "cell_type": "code",
   "execution_count": 94,
   "metadata": {},
   "outputs": [],
   "source": [
    "for i in range(len(A)):\n",
    "    A[i] = Basketballplayer()\n"
   ]
  },
  {
   "cell_type": "code",
   "execution_count": 98,
   "metadata": {},
   "outputs": [
    {
     "data": {
      "text/plain": [
       "0"
      ]
     },
     "execution_count": 98,
     "metadata": {},
     "output_type": "execute_result"
    }
   ],
   "source": []
  }
 ],
 "metadata": {
  "kernelspec": {
   "display_name": "Python 3",
   "language": "python",
   "name": "python3"
  },
  "language_info": {
   "codemirror_mode": {
    "name": "ipython",
    "version": 3
   },
   "file_extension": ".py",
   "mimetype": "text/x-python",
   "name": "python",
   "nbconvert_exporter": "python",
   "pygments_lexer": "ipython3",
   "version": "3.7.3"
  }
 },
 "nbformat": 4,
 "nbformat_minor": 2
}
